{
 "cells": [
  {
   "cell_type": "markdown",
   "metadata": {
    "colab_type": "text"
   },
   "source": [
    "# Earth System Simulation - Google Colab Version\n",
    "\n",
    "This notebook shows how to run the Earth system simulation in Google Colab.\n",
    "\n",
    "[![Open In Colab](https://colab.research.google.com/assets/colab-badge.svg)](https://colab.research.google.com/github/yourusername/earth_system_sim/blob/main/examples/colab_simulation.ipynb)"
   ]
  },
  {
   "cell_type": "markdown",
   "metadata": {},
   "source": [
    "## 1. Setup and Validation\n",
    "\n",
    "First, let's set up the environment and validate all components."
   ]
  },
  {
   "cell_type": "code",
   "execution_count": null,
   "metadata": {
    "colab": true
   },
   "source": [
    "# Install required packages\n",
    "!pip install torch numpy matplotlib pyyaml tqdm plotly"
   ]
  },
  {
   "cell_type": "code",
   "execution_count": null,
   "metadata": {
    "colab": true
   },
   "source": [
    "# Clone repository\n",
    "!git clone https://github.com/yourusername/earth_system_sim.git\n",
    "%cd earth_system_sim\n",
    "\n",
    "# Install package in development mode\n",
    "!pip install -e ."
   ]
  },
  {
   "cell_type": "code",
   "execution_count": null,
   "metadata": {},
   "source": [
    "import torch\n",
    "import numpy as np\n",
    "import matplotlib.pyplot as plt\n",
    "import yaml\n",
    "from pathlib import Path\n",
    "import sys\n",
    "from typing import Dict, List, Tuple, Optional, Union, Any\n",
    "\n",
    "# Verify imports work correctly\n",
    "def verify_imports():\n",
    "    try:\n",
    "        from scripts.run_simulation import EarthSystemSimulation\n",
    "        from scripts.visualize_results import create_visualizations\n",
    "        from src.models.physical import PINN\n",
    "        from src.models.biosphere import BiospherePolicy\n",
    "        from src.models.geosphere import GeospherePolicy\n",
    "        print(\"All imports successful!\")\n",
    "        return True\n",
    "    except ImportError as e:\n",
    "        print(f\"Import error: {str(e)}\")\n",
    "        return False\n",
    "\n",
    "# Verify system configuration\n",
    "def verify_system():\n",
    "    print(\"System Configuration:\")\n",
    "    print(f\"Python version: {sys.version}\")\n",
    "    print(f\"PyTorch version: {torch.__version__}\")\n",
    "    print(f\"NumPy version: {np.__version__}\")\n",
    "    print(f\"CUDA available: {torch.cuda.is_available()}\")\n",
    "    if torch.cuda.is_available():\n",
    "        print(f\"CUDA device: {torch.cuda.get_device_name(0)}\")\n",
    "\n",
    "# Run verifications\n",
    "verify_system()\n",
    "if not verify_imports():\n",
    "    raise RuntimeError(\"Import verification failed. Please check the setup.\")"
   ]
  },
  {
   "cell_type": "code",
   "execution_count": null,
   "metadata": {},
   "source": [
    "# Validate configuration\n",
    "def validate_config(config: Dict) -> bool:\n",
    "    \"\"\"Validate configuration structure and values.\"\"\"\n",
    "    required_keys = ['grid_height', 'grid_width', 'physical_system', \n",
    "                     'biosphere', 'geosphere', 'integration']\n",
    "    \n",
    "    # Check required keys\n",
    "    for key in required_keys:\n",
    "        if key not in config:\n",
    "            print(f\"Missing required key: {key}\")\n",
    "            return False\n",
    "    \n",
    "    # Validate grid dimensions\n",
    "    if config['grid_height'] <= 0 or config['grid_width'] <= 0:\n",
    "        print(\"Invalid grid dimensions\")\n",
    "        return False\n",
    "    \n",
    "    return True\n",
    "\n",
    "# Load and validate configuration\n",
    "with open('config/model_config.yaml', 'r') as f:\n",
    "    config = yaml.safe_load(f)\n",
    "\n",
    "if not validate_config(config):\n",
    "    raise ValueError(\"Configuration validation failed\")\n",
    "\n",
    "print(\"Configuration validated successfully!\")"
   ]
  },
  {
   "cell_type": "markdown",
   "metadata": {},
   "source": [
    "## 2. Initialize Simulation\n",
    "\n",
    "Now we'll set up the simulation with proper error handling."
   ]
  },
  {
   "cell_type": "code",
   "execution_count": null,
   "metadata": {},
   "source": [
    "# Initialize simulation with error handling\n",
    "def initialize_simulation(config_path: str) -> Any:\n",
    "    \"\"\"Initialize simulation with proper error handling.\"\"\"\n",
    "    try:\n",
    "        from scripts.run_simulation import EarthSystemSimulation\n",
    "        device = torch.device('cuda' if torch.cuda.is_available() else 'cpu')\n",
    "        sim = EarthSystemSimulation(config_path, device)\n",
    "        return sim\n",
    "    except Exception as e:\n",
    "        print(f\"Error initializing simulation: {str(e)}\")\n",
    "        raise\n",
    "\n",
    "# Initialize simulation\n",
    "sim = initialize_simulation('config/model_config.yaml')\n",
    "print(\"Simulation initialized successfully!\")"
   ]
  },
  {
   "cell_type": "markdown",
   "metadata": {},
   "source": [
    "## 3. Run Simulation\n",
    "\n",
    "Run the simulation with progress tracking and error handling."
   ]
  },
  {
   "cell_type": "code",
   "execution_count": null,
   "metadata": {},
   "source": [
    "from tqdm.notebook import tqdm\n",
    "\n",
    "def run_simulation_with_progress(sim: Any, num_steps: int, save_frequency: int) -> Dict:\n",
    "    \"\"\"Run simulation with progress tracking and error handling.\"\"\"\n",
    "    try:\n",
    "        print(\"Starting simulation...\")\n",
    "        trajectory = sim.run_simulation(\n",
    "            num_steps=num_steps,\n",
    "            save_frequency=save_frequency\n",
    "        )\n",
    "        print(\"Simulation completed successfully!\")\n",
    "        return trajectory\n",
    "    except Exception as e:\n",
    "        print(f\"Error during simulation: {str(e)}\")\n",
    "        raise\n",
    "\n",
    "# Run simulation\n",
    "trajectory = run_simulation_with_progress(sim, num_steps=50, save_frequency=5)"
   ]
  },
  {
   "cell_type": "markdown",
   "metadata": {},
   "source": [
    "## 4. Analyze Results\n",
    "\n",
    "Create visualizations and analyze the simulation results."
   ]
  },
  {
   "cell_type": "code",
   "execution_count": null,
   "metadata": {},
   "source": [
    "def plot_results(trajectory: Dict):\n",
    "    \"\"\"Create basic plots of simulation results.\"\"\"\n",
    "    fig, axes = plt.subplots(3, 1, figsize=(12, 12))\n",
    "    \n",
    "    # Plot physical system results\n",
    "    temp_mean = np.mean(trajectory['physical'][..., 0], axis=(1, 2))\n",
    "    axes[0].plot(temp_mean, 'r-', label='Mean Temperature')\n",
    "    axes[0].set_title('Physical System')\n",
    "    axes[0].grid(True)\n",
    "    axes[0].legend()\n",
    "    \n",
    "    # Plot biosphere results\n",
    "    veg_mean = np.mean(trajectory['biosphere'][..., 0], axis=0)\n",
    "    axes[1].plot(veg_mean, 'g-', label='Mean Vegetation')\n",
    "    axes[1].set_title('Biosphere System')\n",
    "    axes[1].grid(True)\n",
    "    axes[1].legend()\n",
    "    \n",
    "    # Plot geosphere results\n",
    "    elev_mean = np.mean(trajectory['geosphere'][..., 0], axis=(1, 2))\n",
    "    axes[2].plot(elev_mean, 'b-', label='Mean Elevation')\n",
    "    axes[2].set_title('Geosphere System')\n",
    "    axes[2].grid(True)\n",
    "    axes[2].legend()\n",
    "    \n",
    "    plt.tight_layout()\n",
    "    plt.show()\n",
    "\n",
    "# Plot results\n",
    "try:\n",
    "    plot_results(trajectory)\n",
    "except Exception as e:\n",
    "    print(f\"Error plotting results: {str(e)}\")"
   ]
  },
  {
   "cell_type": "markdown",
   "metadata": {},
   "source": [
    "## 5. Save Results\n",
    "\n",
    "Save the simulation results to Google Drive."
   ]
  },
  {
   "cell_type": "code",
   "execution_count": null,
   "metadata": {},
   "source": [
    "def save_results(trajectory: Dict, save_path: str):\n",
    "    \"\"\"Save simulation results with error handling.\"\"\"\n",
    "    try:\n",
    "        np.savez(\n",
    "            save_path,\n",
    "            physical_states=trajectory['physical'],\n",
    "            biosphere_states=trajectory['biosphere'],\n",
    "            geosphere_states=trajectory['geosphere'],\n",
    "            times=trajectory['times']\n",
    "        )\n",
    "        print(f\"Results saved to: {save_path}\")\n",
    "    except Exception as e:\n",
    "        print(f\"Error saving results: {str(e)}\")\n",
    "\n",
    "# Mount Google Drive and save results\n",
    "try:\n",
    "    from google.colab import drive\n",
    "    drive.mount('/content/drive')\n",
    "    \n",
    "    # Create output directory\n",
    "    output_dir = '/content/drive/MyDrive/earth_system_results'\n",
    "    os.makedirs(output_dir, exist_ok=True)\n",
    "    \n",
    "    # Save results\n",
    "    save_path = os.path.join(output_dir, 'simulation_results.npz')\n",
    "    save_results(trajectory, save_path)\n",
    "except Exception as e:\n",
    "    print(f\"Error accessing Google Drive: {str(e)}\")\n",
    "    print(\"Saving results locally instead...\")\n",
    "    save_results(trajectory, 'simulation_results.npz')"
   ]
  }
 ],
 "metadata": {
  "accelerator": "GPU",
  "colab": {
   "name": "Earth System Simulation",
   "provenance": []
  },
  "kernelspec": {
   "display_name": "Python 3",
   "language": "python",
   "name": "python3"
  }
 },
 "nbformat": 4,
 "nbformat_minor": 4
}