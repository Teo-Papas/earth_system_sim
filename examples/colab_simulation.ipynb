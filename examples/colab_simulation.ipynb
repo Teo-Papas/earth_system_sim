{
 "cells": [
  {
   "cell_type": "markdown",
   "metadata": {},
   "source": [
    "# Earth System Simulation - Google Colab Version\n",
    "\n",
    "This notebook shows how to run the Earth system simulation in Google Colab."
   ]
  },
  {
   "cell_type": "markdown",
   "metadata": {},
   "source": [
    "## 1. Setup Environment"
   ]
  },
  {
   "cell_type": "code",
   "execution_count": null,
   "metadata": {},
   "source": [
    "# Install required packages\n",
    "!pip install torch numpy matplotlib pyyaml tqdm plotly"
   ]
  },
  {
   "cell_type": "code",
   "execution_count": null,
   "metadata": {},
   "source": [
    "# Clone repository\n",
    "!git clone https://github.com/yourusername/earth_system_sim.git\n",
    "%cd earth_system_sim"
   ]
  },
  {
   "cell_type": "code",
   "execution_count": null,
   "metadata": {},
   "source": [
    "# Set up Python path\n",
    "import os\n",
    "import sys\n",
    "from pathlib import Path\n",
    "\n",
    "# Get absolute paths\n",
    "project_root = Path.cwd().absolute()\n",
    "src_path = project_root / 'src'\n",
    "scripts_path = project_root / 'scripts'\n",
    "\n",
    "# Add paths to sys.path\n",
    "paths_to_add = [str(project_root), str(src_path), str(scripts_path)]\n",
    "for path in paths_to_add:\n",
    "    if path not in sys.path:\n",
    "        sys.path.insert(0, path)\n",
    "\n",
    "print(\"Python path:\")\n",
    "for p in sys.path:\n",
    "    print(f\"  {p}\")"
   ]
  },
  {
   "cell_type": "code",
   "execution_count": null,
   "metadata": {},
   "source": [
    "# Create __init__.py files if they don't exist\n",
    "def ensure_init_files():\n",
    "    \"\"\"Create necessary __init__.py files.\"\"\"\n",
    "    init_paths = [\n",
    "        'src/__init__.py',\n",
    "        'src/models/__init__.py',\n",
    "        'src/models/physical/__init__.py',\n",
    "        'src/models/biosphere/__init__.py',\n",
    "        'src/models/geosphere/__init__.py',\n",
    "        'src/integration/__init__.py',\n",
    "        'src/visualization/__init__.py'\n",
    "    ]\n",
    "    \n",
    "    for init_path in init_paths:\n",
    "        path = project_root / init_path\n",
    "        if not path.exists():\n",
    "            path.parent.mkdir(parents=True, exist_ok=True)\n",
    "            path.touch()\n",
    "            print(f\"Created: {init_path}\")\n",
    "\n",
    "ensure_init_files()"
   ]
  },
  {
   "cell_type": "code",
   "execution_count": null,
   "metadata": {},
   "source": [
    "# Import dependencies\n",
    "import torch\n",
    "import numpy as np\n",
    "import matplotlib.pyplot as plt\n",
    "import yaml\n",
    "from tqdm.notebook import tqdm\n",
    "from typing import Dict, List, Tuple, Optional, Union, Any\n",
    "\n",
    "# Explicitly import from scripts\n",
    "from run_simulation import EarthSystemSimulation\n",
    "\n",
    "def verify_system():\n",
    "    \"\"\"Verify system configuration.\"\"\"\n",
    "    print(\"System Configuration:\")\n",
    "    print(f\"Python version: {sys.version}\")\n",
    "    print(f\"PyTorch version: {torch.__version__}\")\n",
    "    print(f\"NumPy version: {np.__version__}\")\n",
    "    print(f\"CUDA available: {torch.cuda.is_available()}\")\n",
    "    if torch.cuda.is_available():\n",
    "        print(f\"CUDA device: {torch.cuda.get_device_name(0)}\")\n",
    "\n",
    "# Run system verification\n",
    "verify_system()"
   ]
  },
  {
   "cell_type": "markdown",
   "metadata": {},
   "source": [
    "## 2. Load and Validate Configuration"
   ]
  },
  {
   "cell_type": "code",
   "execution_count": null,
   "metadata": {},
   "source": [
    "def validate_config(config):\n",
    "    \"\"\"Validate configuration structure and values.\"\"\"\n",
    "    required_keys = ['grid_height', 'grid_width', 'physical_system', \n",
    "                     'biosphere', 'geosphere', 'integration']\n",
    "    \n",
    "    # Check required keys\n",
    "    for key in required_keys:\n",
    "        if key not in config:\n",
    "            print(f\"Missing required key: {key}\")\n",
    "            return False\n",
    "    \n",
    "    # Validate grid dimensions\n",
    "    if config['grid_height'] <= 0 or config['grid_width'] <= 0:\n",
    "        print(\"Invalid grid dimensions\")\n",
    "        return False\n",
    "    \n",
    "    return True\n",
    "\n",
    "# Load configuration\n",
    "config_path = project_root / 'config' / 'model_config.yaml'\n",
    "with open(config_path, 'r') as f:\n",
    "    config = yaml.safe_load(f)\n",
    "\n",
    "if not validate_config(config):\n",
    "    raise ValueError(\"Configuration validation failed\")\n",
    "print(\"Configuration validated successfully!\")"
   ]
  },
  {
   "cell_type": "markdown",
   "metadata": {},
   "source": [
    "## 3. Run Simulation"
   ]
  },
  {
   "cell_type": "code",
   "execution_count": null,
   "metadata": {},
   "source": [
    "# Initialize simulation\n",
    "device = torch.device('cuda' if torch.cuda.is_available() else 'cpu')\n",
    "print(f\"Using device: {device}\")\n",
    "\n",
    "sim = EarthSystemSimulation(str(config_path), device)\n",
    "print(\"Simulation initialized!\")\n",
    "\n",
    "# Run simulation with progress tracking\n",
    "def run_simulation_with_progress(sim, num_steps, save_frequency):\n",
    "    print(\"Running simulation...\")\n",
    "    try:\n",
    "        trajectory = sim.run_simulation(\n",
    "            num_steps=num_steps,\n",
    "            save_frequency=save_frequency\n",
    "        )\n",
    "        print(\"Simulation complete!\")\n",
    "        return trajectory\n",
    "    except Exception as e:\n",
    "        print(f\"Error during simulation: {str(e)}\")\n",
    "        raise\n",
    "\n",
    "# Run simulation\n",
    "trajectory = run_simulation_with_progress(sim, num_steps=50, save_frequency=5)"
   ]
  },
  {
   "cell_type": "markdown",
   "metadata": {},
   "source": [
    "## 4. Analyze Results"
   ]
  },
  {
   "cell_type": "code",
   "execution_count": null,
   "metadata": {},
   "source": [
    "# Plot results\n",
    "fig, axes = plt.subplots(3, 1, figsize=(12, 12))\n",
    "\n",
    "# Physical system - mean temperature\n",
    "temp_mean = np.mean(trajectory['physical'][..., 1], axis=(2, 3))  # Temperature channel\n",
    "axes[0].plot(temp_mean, 'r-', label='Mean Temperature')\n",
    "axes[0].set_title('Physical System')\n",
    "axes[0].grid(True)\n",
    "axes[0].legend()\n",
    "\n",
    "# Biosphere - mean vegetation\n",
    "veg_mean = np.mean(trajectory['biosphere'][..., 0], axis=0)  # Vegetation channel\n",
    "axes[1].plot(veg_mean, 'g-', label='Mean Vegetation')\n",
    "axes[1].set_title('Biosphere System')\n",
    "axes[1].grid(True)\n",
    "axes[1].legend()\n",
    "\n",
    "# Geosphere - mean elevation\n",
    "elev_mean = np.mean(trajectory['geosphere'][..., 0], axis=0)  # Elevation channel\n",
    "axes[2].plot(elev_mean, 'b-', label='Mean Elevation')\n",
    "axes[2].set_title('Geosphere System')\n",
    "axes[2].grid(True)\n",
    "axes[2].legend()\n",
    "\n",
    "plt.tight_layout()\n",
    "plt.show()"
   ]
  },
  {
   "cell_type": "markdown",
   "metadata": {},
   "source": [
    "## 5. Save Results"
   ]
  },
  {
   "cell_type": "code",
   "execution_count": null,
   "metadata": {},
   "source": [
    "# Save results to file\n",
    "output_file = 'simulation_results.npz'\n",
    "np.savez(\n",
    "    output_file,\n",
    "    physical_states=np.array(trajectory['physical']),\n",
    "    biosphere_states=np.array(trajectory['biosphere']),\n",
    "    geosphere_states=np.array(trajectory['geosphere']),\n",
    "    times=trajectory['times']\n",
    ")\n",
    "print(f\"Results saved to: {output_file}\")"
   ]
  }
 ],
 "metadata": {
  "accelerator": "GPU",
  "colab": {
   "name": "Earth System Simulation",
   "provenance": []
  },
  "kernelspec": {
   "display_name": "Python 3",
   "language": "python",
   "name": "python3"
  }
 },
 "nbformat": 4,
 "nbformat_minor": 4
}
