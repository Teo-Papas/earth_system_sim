{
 "cells": [
  {
   "cell_type": "markdown",
   "metadata": {
    "colab_type": "text"
   },
   "source": [
    "# Earth System Simulation - Google Colab Version\n",
    "\n",
    "This notebook shows how to run the Earth system simulation in Google Colab.\n",
    "\n",
    "[![Open In Colab](https://colab.research.google.com/assets/colab-badge.svg)](https://colab.research.google.com/github/yourusername/earth_system_sim/blob/main/examples/colab_simulation.ipynb)"
   ]
  },
  {
   "cell_type": "markdown",
   "metadata": {},
   "source": [
    "## 1. Setup Environment\n",
    "\n",
    "First, let's clone the repository and install required packages."
   ]
  },
  {
   "cell_type": "code",
   "execution_count": null,
   "metadata": {
    "colab": true
   },
   "source": [
    "# Clone repository\n",
    "!git clone https://github.com/yourusername/earth_system_sim.git\n",
    "%cd earth_system_sim\n",
    "\n",
    "# Install package in development mode\n",
    "!pip install -e ."
   ]
  },
  {
   "cell_type": "markdown",
   "metadata": {},
   "source": [
    "## 2. Import Dependencies"
   ]
  },
  {
   "cell_type": "code",
   "execution_count": null,
   "metadata": {},
   "source": [
    "import torch\n",
    "import numpy as np\n",
    "import matplotlib.pyplot as plt\n",
    "import yaml\n",
    "from pathlib import Path\n",
    "from tqdm.notebook import tqdm\n",
    "import sys\n",
    "\n",
    "# Add project root to path\n",
    "project_root = Path.cwd()\n",
    "if str(project_root) not in sys.path:\n",
    "    sys.path.append(str(project_root))\n",
    "\n",
    "from scripts.run_simulation import EarthSystemSimulation\n",
    "from scripts.visualize_results import create_visualizations"
   ]
  },
  {
   "cell_type": "markdown",
   "metadata": {},
   "source": [
    "## 3. Mount Google Drive (Optional)\n",
    "\n",
    "If you want to save results persistently, mount your Google Drive."
   ]
  },
  {
   "cell_type": "code",
   "execution_count": null,
   "metadata": {
    "colab": true
   },
   "source": [
    "from google.colab import drive\n",
    "drive.mount('/content/drive')\n",
    "\n",
    "# Create output directory in Drive\n",
    "import os\n",
    "output_dir = '/content/drive/MyDrive/earth_system_results'\n",
    "os.makedirs(output_dir, exist_ok=True)"
   ]
  },
  {
   "cell_type": "markdown",
   "metadata": {},
   "source": [
    "## 4. Check GPU Availability"
   ]
  },
  {
   "cell_type": "code",
   "execution_count": null,
   "metadata": {},
   "source": [
    "device = torch.device('cuda' if torch.cuda.is_available() else 'cpu')\n",
    "print(f\"Using device: {device}\")\n",
    "\n",
    "if torch.cuda.is_available():\n",
    "    print(f\"GPU: {torch.cuda.get_device_name(0)}\")\n",
    "    print(f\"Memory allocated: {torch.cuda.memory_allocated(0) / 1e9:.2f} GB\")"
   ]
  },
  {
   "cell_type": "markdown",
   "metadata": {},
   "source": [
    "## 5. Load and Modify Configuration"
   ]
  },
  {
   "cell_type": "code",
   "execution_count": null,
   "metadata": {},
   "source": [
    "# Load config\n",
    "with open('config/model_config.yaml', 'r') as f:\n",
    "    config = yaml.safe_load(f)\n",
    "\n",
    "# Adjust for Colab resources\n",
    "config['grid_height'] = 16  # Reduced size\n",
    "config['grid_width'] = 16   # Reduced size\n",
    "\n",
    "# Save modified config\n",
    "with open('config/colab_config.yaml', 'w') as f:\n",
    "    yaml.dump(config, f)"
   ]
  },
  {
   "cell_type": "markdown",
   "metadata": {},
   "source": [
    "## 6. Run Simulation"
   ]
  },
  {
   "cell_type": "code",
   "execution_count": null,
   "metadata": {},
   "source": [
    "# Create and run simulation\n",
    "sim = EarthSystemSimulation('config/colab_config.yaml', device)\n",
    "\n",
    "print(\"Running simulation...\")\n",
    "trajectory = sim.run_simulation(\n",
    "    num_steps=50,\n",
    "    save_frequency=5\n",
    ")\n",
    "\n",
    "print(\"Simulation complete!\")"
   ]
  },
  {
   "cell_type": "markdown",
   "metadata": {},
   "source": [
    "## 7. Create Visualizations"
   ]
  },
  {
   "cell_type": "code",
   "execution_count": null,
   "metadata": {},
   "source": [
    "# Load visualization config\n",
    "with open('config/visualization_config.yaml', 'r') as f:\n",
    "    viz_config = yaml.safe_load(f)\n",
    "\n",
    "# Create visualizations\n",
    "print(\"Creating visualizations...\")\n",
    "create_visualizations(\n",
    "    trajectory,\n",
    "    viz_config,\n",
    "    output_dir,\n",
    "    make_animations=True\n",
    ")\n",
    "\n",
    "print(f\"Results saved to: {output_dir}\")"
   ]
  },
  {
   "cell_type": "markdown",
   "metadata": {},
   "source": [
    "## 8. Display Results"
   ]
  },
  {
   "cell_type": "code",
   "execution_count": null,
   "metadata": {},
   "source": [
    "# Plot time series of key variables\n",
    "fig, axes = plt.subplots(3, 1, figsize=(12, 12))\n",
    "\n",
    "# Physical system - mean temperature\n",
    "temp_mean = np.mean(trajectory['physical_states'][..., 0], axis=(1, 2))\n",
    "axes[0].plot(temp_mean, 'r-')\n",
    "axes[0].set_title('Mean Temperature')\n",
    "axes[0].grid(True)\n",
    "\n",
    "# Biosphere - mean vegetation cover\n",
    "veg_mean = np.mean(trajectory['biosphere_states'][..., 0], axis=0)\n",
    "axes[1].plot(veg_mean, 'g-')\n",
    "axes[1].set_title('Mean Vegetation Cover')\n",
    "axes[1].grid(True)\n",
    "\n",
    "# Geosphere - mean elevation\n",
    "elev_mean = np.mean(trajectory['geosphere_states'][..., 0], axis=(1, 2))\n",
    "axes[2].plot(elev_mean, 'b-')\n",
    "axes[2].set_title('Mean Elevation')\n",
    "axes[2].grid(True)\n",
    "\n",
    "plt.tight_layout()\n",
    "plt.show()"
   ]
  },
  {
   "cell_type": "markdown",
   "metadata": {},
   "source": [
    "## 9. Save Results"
   ]
  },
  {
   "cell_type": "code",
   "execution_count": null,
   "metadata": {},
   "source": [
    "# Save simulation results\n",
    "save_path = os.path.join(output_dir, 'simulation_results.npz')\n",
    "np.savez(\n",
    "    save_path,\n",
    "    physical_states=trajectory['physical'],\n",
    "    biosphere_states=trajectory['biosphere'],\n",
    "    geosphere_states=trajectory['geosphere'],\n",
    "    times=trajectory['times']\n",
    ")\n",
    "\n",
    "print(f\"Results saved to: {save_path}\")"
   ]
  }
 ],
 "metadata": {
  "accelerator": "GPU",
  "colab": {
   "name": "Earth System Simulation",
   "provenance": []
  },
  "kernelspec": {
   "display_name": "Python 3",
   "language": "python",
   "name": "python3"
  },
  "language_info": {
   "codemirror_mode": {
    "name": "ipython",
    "version": 3
   },
   "file_extension": ".py",
   "mimetype": "text/x-python",
   "name": "python",
   "nbconvert_exporter": "python",
   "pygments_lexer": "ipython3",
   "version": "3.8.0"
  }
 },
 "nbformat": 4,
 "nbformat_minor": 4
}