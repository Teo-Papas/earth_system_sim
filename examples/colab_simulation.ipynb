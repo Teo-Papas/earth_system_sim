{
 "cells": [
  {
   "cell_type": "markdown",
   "metadata": {
    "colab_type": "text"
   },
   "source": [
    "# Earth System Simulation - Google Colab Version\n",
    "\n",
    "This notebook is optimized for running the Earth system simulation in Google Colab.\n",
    "\n",
    "[![Open In Colab](https://colab.research.google.com/assets/colab-badge.svg)](https://colab.research.google.com/github/yourusername/earth_system_sim/blob/main/examples/colab_simulation.ipynb)"
   ]
  },
  {
   "cell_type": "markdown",
   "metadata": {},
   "source": [
    "## 1. Setup Environment\n",
    "\n",
    "First, let's set up our environment and install dependencies."
   ]
  },
  {
   "cell_type": "code",
   "execution_count": null,
   "metadata": {
    "colab": true
   },
   "source": [
    "# Clone repository\n",
    "!git clone https://github.com/yourusername/earth_system_sim.git\n",
    "%cd earth_system_sim\n",
    "\n",
    "# Install requirements\n",
    "!pip install -r requirements.txt\n",
    "\n",
    "# Add project root to Python path\n",
    "import sys\n",
    "from pathlib import Path\n",
    "sys.path.append(str(Path.cwd()))"
   ]
  },
  {
   "cell_type": "markdown",
   "metadata": {},
   "source": [
    "## 2. Mount Google Drive (Optional)\n",
    "\n",
    "If you want to save results persistently, mount your Google Drive."
   ]
  },
  {
   "cell_type": "code",
   "execution_count": null,
   "metadata": {
    "colab": true
   },
   "source": [
    "from google.colab import drive\n",
    "drive.mount('/content/drive')\n",
    "\n",
    "# Create output directory in Drive\n",
    "import os\n",
    "output_dir = '/content/drive/MyDrive/earth_system_results'\n",
    "os.makedirs(output_dir, exist_ok=True)"
   ]
  },
  {
   "cell_type": "markdown",
   "metadata": {},
   "source": [
    "## 3. Import Dependencies"
   ]
  },
  {
   "cell_type": "code",
   "execution_count": null,
   "metadata": {},
   "source": [
    "import torch\n",
    "import numpy as np\n",
    "import matplotlib.pyplot as plt\n",
    "import yaml\n",
    "from IPython.display import HTML\n",
    "from tqdm.notebook import tqdm\n",
    "\n",
    "from scripts.run_simulation import EarthSystemSimulation\n",
    "from scripts.visualize_results import create_visualizations"
   ]
  },
  {
   "cell_type": "markdown",
   "metadata": {},
   "source": [
    "## 4. Check GPU Availability\n",
    "\n",
    "Verify that we have access to a GPU."
   ]
  },
  {
   "cell_type": "code",
   "execution_count": null,
   "metadata": {},
   "source": [
    "device = torch.device('cuda' if torch.cuda.is_available() else 'cpu')\n",
    "print(f\"Using device: {device}\")\n",
    "\n",
    "if torch.cuda.is_available():\n",
    "    print(f\"GPU: {torch.cuda.get_device_name(0)}\")\n",
    "    print(f\"Memory allocated: {torch.cuda.memory_allocated(0) / 1e9:.2f} GB\")"
   ]
  },
  {
   "cell_type": "markdown",
   "metadata": {},
   "source": [
    "## 5. Load and Modify Configuration\n",
    "\n",
    "Load the default configuration and adjust for Colab's resources."
   ]
  },
  {
   "cell_type": "code",
   "execution_count": null,
   "metadata": {},
   "source": [
    "# Load config\n",
    "with open('config/model_config.yaml', 'r') as f:\n",
    "    config = yaml.safe_load(f)\n",
    "\n",
    "# Adjust for Colab resources\n",
    "config['grid_height'] = 16  # Reduced size\n",
    "config['grid_width'] = 16   # Reduced size\n",
    "\n",
    "# Save modified config\n",
    "with open('config/colab_config.yaml', 'w') as f:\n",
    "    yaml.dump(config, f)"
   ]
  },
  {
   "cell_type": "markdown",
   "metadata": {},
   "source": [
    "## 6. Run Simulation"
   ]
  },
  {
   "cell_type": "code",
   "execution_count": null,
   "metadata": {},
   "source": [
    "# Create simulation\n",
    "sim = EarthSystemSimulation('config/colab_config.yaml', device)\n",
    "\n",
    "# Run simulation\n",
    "print(\"Running simulation...\")\n",
    "trajectory = sim.run_simulation(\n",
    "    num_steps=50,\n",
    "    save_frequency=5\n",
    ")\n",
    "\n",
    "print(\"Simulation complete!\")"
   ]
  },
  {
   "cell_type": "markdown",
   "metadata": {},
   "source": [
    "## 7. Create Visualizations"
   ]
  },
  {
   "cell_type": "code",
   "execution_count": null,
   "metadata": {},
   "source": [
    "# Load visualization config\n",
    "with open('config/visualization_config.yaml', 'r') as f:\n",
    "    viz_config = yaml.safe_load(f)\n",
    "\n",
    "# Create visualizations\n",
    "print(\"Creating visualizations...\")\n",
    "create_visualizations(\n",
    "    trajectory,\n",
    "    viz_config,\n",
    "    output_dir,\n",
    "    make_animations=True\n",
    ")\n",
    "\n",
    "print(f\"Results saved to: {output_dir}\")"
   ]
  },
  {
   "cell_type": "markdown",
   "metadata": {},
   "source": [
    "## 8. Display Interactive Results\n",
    "\n",
    "Create and display interactive visualizations of the results."
   ]
  },
  {
   "cell_type": "code",
   "execution_count": null,
   "metadata": {},
   "source": [
    "import plotly.graph_objects as go\n",
    "from plotly.subplots import make_subplots\n",
    "\n",
    "# Create interactive dashboard\n",
    "fig = make_subplots(\n",
    "    rows=2, cols=2,\n",
    "    subplot_titles=(\n",
    "        'Temperature Field',\n",
    "        'Vegetation Distribution',\n",
    "        'Topography',\n",
    "        'System Evolution'\n",
    "    )\n",
    ")\n",
    "\n",
    "# Add temperature plot\n",
    "fig.add_trace(\n",
    "    go.Heatmap(\n",
    "        z=trajectory['physical'][0][..., 0],\n",
    "        colorscale='RdBu_r',\n",
    "        name='Temperature'\n",
    "    ),\n",
    "    row=1, col=1\n",
    ")\n",
    "\n",
    "# Add vegetation plot\n",
    "fig.add_trace(\n",
    "    go.Heatmap(\n",
    "        z=trajectory['biosphere'][0][..., 0],\n",
    "        colorscale='YlGn',\n",
    "        name='Vegetation'\n",
    "    ),\n",
    "    row=1, col=2\n",
    ")\n",
    "\n",
    "# Add topography plot\n",
    "fig.add_trace(\n",
    "    go.Surface(\n",
    "        z=trajectory['geosphere'][0][..., 0],\n",
    "        colorscale='terrain',\n",
    "        name='Elevation'\n",
    "    ),\n",
    "    row=2, col=1\n",
    ")\n",
    "\n",
    "# Add time series\n",
    "times = np.array([t['physical'] for t in trajectory['times']])\n",
    "temp_mean = np.mean(trajectory['physical'][..., 0], axis=(1, 2))\n",
    "\n",
    "fig.add_trace(\n",
    "    go.Scatter(\n",
    "        x=times,\n",
    "        y=temp_mean,\n",
    "        name='Mean Temperature',\n",
    "        line=dict(color='red')\n",
    "    ),\n",
    "    row=2, col=2\n",
    ")\n",
    "\n",
    "# Update layout\n",
    "fig.update_layout(\n",
    "    height=800,\n",
    "    width=1000,\n",
    "    title_text=\"Earth System Simulation Results\",\n",
    "    showlegend=True\n",
    ")\n",
    "\n",
    "fig.show()"
   ]
  },
  {
   "cell_type": "markdown",
   "metadata": {},
   "source": [
    "## 9. Save Results to Drive"
   ]
  },
  {
   "cell_type": "code",
   "execution_count": null,
   "metadata": {},
   "source": [
    "# Save trajectory data\n",
    "data_path = os.path.join(output_dir, 'simulation_results.npz')\n",
    "np.savez(\n",
    "    data_path,\n",
    "    physical_states=trajectory['physical'],\n",
    "    biosphere_states=trajectory['biosphere'],\n",
    "    geosphere_states=trajectory['geosphere'],\n",
    "    times=trajectory['times']\n",
    ")\n",
    "\n",
    "print(f\"Results saved to: {data_path}\")"
   ]
  }
 ],
 "metadata": {
  "accelerator": "GPU",
  "colab": {
   "name": "Earth System Simulation",
   "provenance": []
  },
  "kernelspec": {
   "display_name": "Python 3",
   "language": "python",
   "name": "python3"
  },
  "language_info": {
   "codemirror_mode": {
    "name": "ipython",
    "version": 3
   },
   "file_extension": ".py",
   "mimetype": "text/x-python",
   "name": "python",
   "nbconvert_exporter": "python",
   "pygments_lexer": "ipython3",
   "version": "3.8.0"
  }
 },
 "nbformat": 4,
 "nbformat_minor": 4
}