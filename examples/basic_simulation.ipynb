{
 "cells": [
  {
   "cell_type": "markdown",
   "metadata": {},
   "source": [
    "# Earth System Simulation Example\n",
    "\n",
    "This notebook demonstrates how to use the Earth system simulation framework to:\n",
    "1. Set up and run a simulation\n",
    "2. Visualize the results\n",
    "3. Analyze component interactions"
   ]
  },
  {
   "cell_type": "code",
   "execution_count": null,
   "metadata": {},
   "source": [
    "import sys\n",
    "from pathlib import Path\n",
    "import torch\n",
    "import numpy as np\n",
    "import matplotlib.pyplot as plt\n",
    "import yaml\n",
    "\n",
    "# Add project root to Python path\n",
    "project_root = Path.cwd().parent\n",
    "sys.path.append(str(project_root))\n",
    "\n",
    "from scripts.run_simulation import EarthSystemSimulation\n",
    "from scripts.visualize_results import create_visualizations"
   ]
  },
  {
   "cell_type": "markdown",
   "metadata": {},
   "source": [
    "## 1. Setup\n",
    "\n",
    "First, let's load the configuration and create a simulation instance."
   ]
  },
  {
   "cell_type": "code",
   "execution_count": null,
   "metadata": {},
   "source": [
    "# Load config\n",
    "config_path = project_root / 'config' / 'model_config.yaml'\n",
    "\n",
    "# Create simulation\n",
    "device = torch.device('cuda' if torch.cuda.is_available() else 'cpu')\n",
    "sim = EarthSystemSimulation(str(config_path), device)\n",
    "\n",
    "print(f\"Using device: {device}\")"
   ]
  },
  {
   "cell_type": "markdown",
   "metadata": {},
   "source": [
    "## 2. Run Simulation\n",
    "\n",
    "Now we'll run a short simulation and examine the results."
   ]
  },
  {
   "cell_type": "code",
   "execution_count": null,
   "metadata": {},
   "source": [
    "# Run simulation\n",
    "trajectory = sim.run_simulation(\n",
    "    num_steps=100,\n",
    "    save_frequency=10\n",
    ")\n",
    "\n",
    "print(\"Simulation complete!\")\n",
    "print(f\"Saved {len(trajectory['times'])} timesteps\")"
   ]
  },
  {
   "cell_type": "markdown",
   "metadata": {},
   "source": [
    "## 3. Basic Visualization\n",
    "\n",
    "Let's create some basic visualizations of the simulation results."
   ]
  },
  {
   "cell_type": "code",
   "execution_count": null,
   "metadata": {},
   "source": [
    "# Load visualization config\n",
    "viz_config_path = project_root / 'config' / 'visualization_config.yaml'\n",
    "with open(viz_config_path, 'r') as f:\n",
    "    viz_config = yaml.safe_load(f)\n",
    "\n",
    "# Create output directory\n",
    "output_dir = project_root / 'example_outputs'\n",
    "output_dir.mkdir(exist_ok=True)\n",
    "\n",
    "# Create visualizations\n",
    "create_visualizations(\n",
    "    trajectory,\n",
    "    viz_config,\n",
    "    str(output_dir),\n",
    "    make_animations=True\n",
    ")"
   ]
  },
  {
   "cell_type": "markdown",
   "metadata": {},
   "source": [
    "## 4. Analyze Component Interactions\n",
    "\n",
    "Let's examine how the different components interact over time."
   ]
  },
  {
   "cell_type": "code",
   "execution_count": null,
   "metadata": {},
   "source": [
    "# Extract time series\n",
    "times = np.array([t['physical'] for t in trajectory['times']])\n",
    "physical_states = np.array(trajectory['physical'])\n",
    "bio_states = np.array(trajectory['biosphere'])\n",
    "geo_states = np.array(trajectory['geosphere'])\n",
    "\n",
    "# Create subplot figure\n",
    "fig, axes = plt.subplots(3, 1, figsize=(12, 12), sharex=True)\n",
    "\n",
    "# Plot physical system (mean temperature)\n",
    "temp_mean = np.mean(physical_states[..., 0], axis=(1, 2))\n",
    "axes[0].plot(times, temp_mean, 'r-', label='Mean Temperature')\n",
    "axes[0].set_ylabel('Temperature (K)')\n",
    "axes[0].legend()\n",
    "axes[0].grid(True)\n",
    "\n",
    "# Plot biosphere system (mean vegetation)\n",
    "veg_mean = np.mean(bio_states[..., 0], axis=0)\n",
    "axes[1].plot(times, veg_mean, 'g-', label='Mean Vegetation')\n",
    "axes[1].set_ylabel('Vegetation Density')\n",
    "axes[1].legend()\n",
    "axes[1].grid(True)\n",
    "\n",
    "# Plot geosphere system (mean elevation)\n",
    "elev_mean = np.mean(geo_states[..., 0], axis=(1, 2))\n",
    "axes[2].plot(times, elev_mean, 'b-', label='Mean Elevation')\n",
    "axes[2].set_xlabel('Time')\n",
    "axes[2].set_ylabel('Elevation (m)')\n",
    "axes[2].legend()\n",
    "axes[2].grid(True)\n",
    "\n",
    "plt.tight_layout()\n",
    "plt.show()"
   ]
  },
  {
   "cell_type": "markdown",
   "metadata": {},
   "source": [
    "## 5. Examine Conservation Laws\n",
    "\n",
    "Let's verify that physical conservation laws are being respected."
   ]
  },
  {
   "cell_type": "code",
   "execution_count": null,
   "metadata": {},
   "source": [
    "# Create input tensor for PINN\n",
    "physical_input = torch.tensor(physical_states[np.newaxis], device=device)\n",
    "\n",
    "# Get predictions and physics losses\n",
    "with torch.no_grad():\n",
    "    predictions, physics_losses = sim.physical(physical_input)\n",
    "\n",
    "# Plot physics losses\n",
    "fig, ax = plt.subplots(figsize=(10, 6))\n",
    "\n",
    "for name, loss in physics_losses.items():\n",
    "    ax.bar(name, loss.cpu().item())\n",
    "\n",
    "ax.set_title('Physics Conservation Losses')\n",
    "ax.set_ylabel('Loss Value')\n",
    "ax.grid(True)\n",
    "\n",
    "plt.show()"
   ]
  },
  {
   "cell_type": "markdown",
   "metadata": {},
   "source": [
    "## 6. Interactive Visualization\n",
    "\n",
    "Finally, let's create an interactive visualization using Plotly."
   ]
  },
  {
   "cell_type": "code",
   "execution_count": null,
   "metadata": {},
   "source": [
    "import plotly.graph_objects as go\n",
    "from plotly.subplots import make_subplots\n",
    "\n",
    "# Create figure with subplots\n",
    "fig = make_subplots(rows=2, cols=2)\n",
    "\n",
    "# Add temperature heatmap\n",
    "fig.add_trace(\n",
    "    go.Heatmap(z=physical_states[-1, :, :, 0],\n",
    "               colorscale='RdBu_r',\n",
    "               name='Temperature'),\n",
    "    row=1, col=1\n",
    ")\n",
    "\n",
    "# Add vegetation heatmap\n",
    "fig.add_trace(\n",
    "    go.Heatmap(z=bio_states[-1, :, :, 0],\n",
    "               colorscale='YlGn',\n",
    "               name='Vegetation'),\n",
    "    row=1, col=2\n",
    ")\n",
    "\n",
    "# Add elevation surface\n",
    "fig.add_trace(\n",
    "    go.Surface(z=geo_states[-1, :, :, 0],\n",
    "              colorscale='terrain',\n",
    "              name='Elevation'),\n",
    "    row=2, col=1\n",
    ")\n",
    "\n",
    "# Add time series\n",
    "fig.add_trace(\n",
    "    go.Scatter(x=times, y=temp_mean,\n",
    "               name='Temperature',\n",
    "               line=dict(color='red')),\n",
    "    row=2, col=2\n",
    ")\n",
    "\n",
    "# Update layout\n",
    "fig.update_layout(\n",
    "    title='Earth System Components',\n",
    "    height=800,\n",
    "    width=1000,\n",
    "    showlegend=True\n",
    ")\n",
    "\n",
    "fig.show()"
   ]
  }
 ],
 "metadata": {
  "kernelspec": {
   "display_name": "Python 3",
   "language": "python",
   "name": "python3"
  },
  "language_info": {
   "codemirror_mode": {
    "name": "ipython",
    "version": 3
   },
   "file_extension": ".py",
   "mimetype": "text/x-python",
   "name": "python",
   "nbconvert_exporter": "python",
   "pygments_lexer": "ipython3",
   "version": "3.8.0"
  }
 },
 "nbformat": 4,
 "nbformat_minor": 4
}